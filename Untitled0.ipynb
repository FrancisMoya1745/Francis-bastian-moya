{
  "nbformat": 4,
  "nbformat_minor": 0,
  "metadata": {
    "colab": {
      "provenance": [],
      "authorship_tag": "ABX9TyMSsyUBCVjuJFIab5dPnO3E",
      "include_colab_link": true
    },
    "kernelspec": {
      "name": "python3",
      "display_name": "Python 3"
    },
    "language_info": {
      "name": "python"
    }
  },
  "cells": [
    {
      "cell_type": "markdown",
      "metadata": {
        "id": "view-in-github",
        "colab_type": "text"
      },
      "source": [
        "<a href=\"https://colab.research.google.com/github/FrancisMoya1745/Francis-bastian-moya/blob/main/Untitled0.ipynb\" target=\"_parent\"><img src=\"https://colab.research.google.com/assets/colab-badge.svg\" alt=\"Open In Colab\"/></a>"
      ]
    },
    {
      "cell_type": "code",
      "execution_count": null,
      "metadata": {
        "id": "EtkRtpdXr3VV",
        "outputId": "28ded80a-d0c5-402d-bb81-fd3eb2273353",
        "colab": {
          "base_uri": "https://localhost:8080/"
        }
      },
      "outputs": [
        {
          "output_type": "stream",
          "name": "stdout",
          "text": [
            "Elemento 1: 10\n",
            "Elemento 2: 20\n"
          ]
        }
      ],
      "source": [
        "# Creamos la lista con 7 elementos\n",
        "mi_lista = [10, 20, 30, 40, 50, 60, 70]\n",
        "\n",
        "# Imprimimos el elemento 1 de la lista (índice 0)\n",
        "print(\"Elemento 1:\", mi_lista[0])\n",
        "\n",
        "# Imprimimos el elemento 2 de la lista (índice 1)\n",
        "print(\"Elemento 2:\", mi_lista[1])"
      ]
    },
    {
      "cell_type": "code",
      "source": [
        "suma=0\n",
        "i=1\n",
        "while i<=5:\n",
        "  suma=suma+i\n",
        "  i=i+1\n",
        "print(f\"la suma de los cinco primeros numeros es {suma}\")\n"
      ],
      "metadata": {
        "colab": {
          "base_uri": "https://localhost:8080/"
        },
        "id": "wHaSk1bWtpkF",
        "outputId": "7d237110-0a11-4a6f-bdee-e20dc4420f61"
      },
      "execution_count": 5,
      "outputs": [
        {
          "output_type": "stream",
          "name": "stdout",
          "text": [
            "la suma de los cinco primeros numeros es 15\n"
          ]
        }
      ]
    },
    {
      "cell_type": "code",
      "source": [
        "\n",
        "numero = float(input(\"Ingrese un número: \"))\n",
        "if numero > 40:\n",
        "    print(\"El número es mayor que 40\")\n",
        "elif numero < 40:\n",
        "    print(\"El número es menor que 40\")\n",
        "else:\n",
        "    print(\"El número es igual a 40\")"
      ],
      "metadata": {
        "colab": {
          "base_uri": "https://localhost:8080/"
        },
        "id": "JD5gfPqhvalw",
        "outputId": "b5a2d17f-45db-445e-c76a-4c9e700b04af"
      },
      "execution_count": 7,
      "outputs": [
        {
          "output_type": "stream",
          "name": "stdout",
          "text": [
            "Ingrese un número: 63\n",
            "El número es mayor que 40\n"
          ]
        }
      ]
    },
    {
      "cell_type": "code",
      "source": [
        "nota = float(input(\"ingresa la nota del estudiante\"))\n",
        "if nota <= 4.0:\n",
        "  print(\"reprobado\")\n",
        "else :\n",
        "  print(\"aprobado\")"
      ],
      "metadata": {
        "colab": {
          "base_uri": "https://localhost:8080/"
        },
        "id": "N_urZY92y1q-",
        "outputId": "eba310c6-9d1b-4bc9-b6f6-be0968b8b2c2"
      },
      "execution_count": 12,
      "outputs": [
        {
          "output_type": "stream",
          "name": "stdout",
          "text": [
            "ingresa la nota del estudiante3.9\n",
            "reprobado\n"
          ]
        }
      ]
    },
    {
      "cell_type": "code",
      "source": [
        "num = float(input(\"ingrese un numero cualquiera\"))\n",
        "try:\n",
        "  if num > 0:\n",
        "    print(\"el numero es positivo\")\n",
        "  elif num <0:\n",
        "    print(\"el numero es negativo\")\n",
        "  else:\n",
        "    print(\"el numero es cero\")\n",
        "except:\n",
        "    print(\"el numero ingresado no es valido\")\n",
        ""
      ],
      "metadata": {
        "colab": {
          "base_uri": "https://localhost:8080/"
        },
        "id": "0DRht1pH0hKZ",
        "outputId": "537c1a6c-bfbf-4726-935d-f3c31ea3149a"
      },
      "execution_count": 15,
      "outputs": [
        {
          "output_type": "stream",
          "name": "stdout",
          "text": [
            "ingrese un numero cualquiera-3.4\n",
            "el numero es negativo\n"
          ]
        }
      ]
    },
    {
      "cell_type": "code",
      "source": [
        "numero=int(input(\"ingrese un numero\"))\n",
        "if numero % 2==0:\n",
        "  print(\"el numero es par\")\n",
        "else:\n",
        "  print(\"el numero es impar\")"
      ],
      "metadata": {
        "colab": {
          "base_uri": "https://localhost:8080/"
        },
        "id": "65ZJGyXv3Qp5",
        "outputId": "8eee105a-987e-462b-a14f-2c73e0170741"
      },
      "execution_count": 20,
      "outputs": [
        {
          "output_type": "stream",
          "name": "stdout",
          "text": [
            "ingrese un numero4\n",
            "el numero es par\n"
          ]
        }
      ]
    }
  ]
}